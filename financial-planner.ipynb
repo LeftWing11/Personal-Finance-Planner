{
 "cells": [
  {
   "cell_type": "markdown",
   "metadata": {},
   "source": [
    "# Unit 5 - Financial Planning"
   ]
  },
  {
   "cell_type": "code",
   "execution_count": 71,
   "metadata": {
    "tags": []
   },
   "outputs": [],
   "source": [
    "# Initial imports\n",
    "import os\n",
    "import requests\n",
    "import pandas as pd\n",
    "from dotenv import load_dotenv\n",
    "import alpaca_trade_api as tradeapi\n",
    "from MCForecastTools import MCSimulation\n",
    "from datetime import datetime\n",
    "\n",
    "%matplotlib inline"
   ]
  },
  {
   "cell_type": "code",
   "execution_count": 72,
   "metadata": {
    "tags": []
   },
   "outputs": [
    {
     "data": {
      "text/plain": [
       "True"
      ]
     },
     "execution_count": 72,
     "metadata": {},
     "output_type": "execute_result"
    }
   ],
   "source": [
    "# Load .env enviroment variables\n",
    "load_dotenv()"
   ]
  },
  {
   "cell_type": "markdown",
   "metadata": {},
   "source": [
    "## Part 1 - Personal Finance Planner"
   ]
  },
  {
   "cell_type": "markdown",
   "metadata": {},
   "source": [
    "### Collect Crypto Prices Using the `requests` Library"
   ]
  },
  {
   "cell_type": "markdown",
   "metadata": {},
   "source": [
    "#Set current amount of crypto assets\n",
    "# YOUR CODE HERE!\n"
   ]
  },
  {
   "cell_type": "code",
   "execution_count": 73,
   "metadata": {
    "tags": []
   },
   "outputs": [],
   "source": [
    "# Crypto API URLs\n",
    "my_btc = 1.2\n",
    "my_eth  = 5.3\n",
    "btc_url = \"https://api.alternative.me/v2/ticker/Bitcoin/?convert=CAD\"\n",
    "eth_url = \"https://api.alternative.me/v2/ticker/Ethereum/?convert=CAD\""
   ]
  },
  {
   "cell_type": "code",
   "execution_count": 74,
   "metadata": {
    "tags": []
   },
   "outputs": [
    {
     "name": "stdout",
     "output_type": "stream",
     "text": [
      "The current value of your 1.2 BTC is $47577.39\n",
      "The current value of your 5.3 ETH is $13257.31\n"
     ]
    }
   ],
   "source": [
    "# Fetch current BTC price\n",
    "# YOUR CODE HERE!\n",
    "btc_price = requests.get(btc_url).json()\n",
    "btc_price = btc_price['data']['1']['quotes']['CAD']['price']\n",
    "\n",
    "# Fetch current ETH price\n",
    "# YOUR CODE HERE!\n",
    "eth_price = requests.get(eth_url).json()\n",
    "eth_price = eth_price['data']['1027']['quotes']['CAD']['price']\n",
    "# Compute current value of my crpto\n",
    "# YOUR CODE HERE!\n",
    "\n",
    "my_btc_value = my_btc * btc_price\n",
    "my_eth_value = my_eth * eth_price\n",
    "\n",
    "# Print current crypto wallet balance\n",
    "print(f\"The current value of your {my_btc} BTC is ${my_btc_value:0.2f}\")\n",
    "print(f\"The current value of your {my_eth} ETH is ${my_eth_value:0.2f}\")"
   ]
  },
  {
   "cell_type": "markdown",
   "metadata": {},
   "source": [
    "### Collect Investments Data Using Alpaca: `SPY` (stocks) and `AGG` (bonds)"
   ]
  },
  {
   "cell_type": "code",
   "execution_count": 75,
   "metadata": {
    "tags": []
   },
   "outputs": [],
   "source": [
    "# Set current amount of shares\n",
    "my_agg = 200\n",
    "my_spy = 50"
   ]
  },
  {
   "cell_type": "code",
   "execution_count": 76,
   "metadata": {
    "tags": []
   },
   "outputs": [],
   "source": [
    "# Set Alpaca API key and secret\n",
    "# Create the Alpaca API object\n",
    "# YOUR CODE HERE!\n",
    "alpaca_api_key = os.getenv(\"ALPACA_API_KEY\")\n",
    "alpaca_secret_key = os.getenv(\"ALPACA_SECRET_KEY\")\n",
    "\n",
    "api = tradeapi.REST(\n",
    "    alpaca_api_key,\n",
    "    alpaca_secret_key,\n",
    "    api_version = \"v2\"\n",
    ")\n",
    "\n",
    "\n"
   ]
  },
  {
   "cell_type": "code",
   "execution_count": 77,
   "metadata": {
    "tags": []
   },
   "outputs": [],
   "source": [
    "# Format current date as ISO format\n",
    "start_date = pd.Timestamp(\"2023-07-03\", tz=\"America/New_York\").isoformat()\n",
    "end_date = pd.Timestamp(\"2023-08-03\", tz=\"America/New_York\").isoformat()\n",
    "# Set the tickers\n",
    "tickers = ['AGG', 'SPY']\n",
    "\n",
    "# Set timeframe to \"1Day\" for Alpaca API\n",
    "timeframe = \"1Day\"\n",
    "\n",
    "\n",
    "# Get current closing prices for SPY and AGG\n",
    "closing_prices_df = api.get_bars(\n",
    "    tickers,\n",
    "    timeframe,\n",
    "    start = start_date,\n",
    "    end = start_date\n",
    ")\n",
    "    \n",
    "closing_prices_df = closing_prices_df.df\n",
    "    \n",
    "\n",
    "#Reorganize the DataFrame\n",
    "# Separate ticker data\n",
    "agg_data = closing_prices_df.iloc[0]\n",
    "agg_close_price = agg_data['close']\n",
    "spy_data = closing_prices_df.iloc[1]\n",
    "spy_close_price = spy_data['close']\n",
    "\n",
    "# Concatenate the ticker DataFrames\n"
   ]
  },
  {
   "cell_type": "code",
   "execution_count": 78,
   "metadata": {
    "tags": []
   },
   "outputs": [
    {
     "name": "stdout",
     "output_type": "stream",
     "text": [
      "Current AGG closing price: $97.58\n",
      "Current SPY closing price: $443.79\n"
     ]
    }
   ],
   "source": [
    "# Pick AGG and SPY close prices\n",
    "# YOUR CODE HERE!\n",
    "\n",
    "# Print AGG and SPY close prices\n",
    "print(f\"Current AGG closing price: ${agg_close_price}\")\n",
    "print(f\"Current SPY closing price: ${spy_close_price}\")"
   ]
  },
  {
   "cell_type": "code",
   "execution_count": 79,
   "metadata": {
    "tags": []
   },
   "outputs": [
    {
     "name": "stdout",
     "output_type": "stream",
     "text": [
      "The current value of your 50 SPY shares is $22189.50\n",
      "The current value of your 200 AGG shares is $19516.00\n"
     ]
    }
   ],
   "source": [
    "# Compute the current value of shares\n",
    "# YOUR CODE HERE!\n",
    "my_spy_value = spy_close_price * my_spy\n",
    "my_agg_value = my_agg * agg_close_price\n",
    "# Print current value of shares\n",
    "print(f\"The current value of your {my_spy} SPY shares is ${my_spy_value:0.2f}\")\n",
    "print(f\"The current value of your {my_agg} AGG shares is ${my_agg_value:0.2f}\")"
   ]
  },
  {
   "cell_type": "code",
   "execution_count": 80,
   "metadata": {
    "tags": []
   },
   "outputs": [
    {
     "data": {
      "text/html": [
       "<div>\n",
       "<style scoped>\n",
       "    .dataframe tbody tr th:only-of-type {\n",
       "        vertical-align: middle;\n",
       "    }\n",
       "\n",
       "    .dataframe tbody tr th {\n",
       "        vertical-align: top;\n",
       "    }\n",
       "\n",
       "    .dataframe thead th {\n",
       "        text-align: right;\n",
       "    }\n",
       "</style>\n",
       "<table border=\"1\" class=\"dataframe\">\n",
       "  <thead>\n",
       "    <tr style=\"text-align: right;\">\n",
       "      <th></th>\n",
       "      <th>Amount</th>\n",
       "    </tr>\n",
       "    <tr>\n",
       "      <th></th>\n",
       "      <th></th>\n",
       "    </tr>\n",
       "  </thead>\n",
       "  <tbody>\n",
       "    <tr>\n",
       "      <th>Crypto</th>\n",
       "      <td>60834.695064</td>\n",
       "    </tr>\n",
       "    <tr>\n",
       "      <th>Shares</th>\n",
       "      <td>41705.500000</td>\n",
       "    </tr>\n",
       "  </tbody>\n",
       "</table>\n",
       "</div>"
      ],
      "text/plain": [
       "              Amount\n",
       "                    \n",
       "Crypto  60834.695064\n",
       "Shares  41705.500000"
      ]
     },
     "metadata": {},
     "output_type": "display_data"
    }
   ],
   "source": [
    "# Set monthly household income\n",
    "# YOUR CODE HERE!\n",
    "monthly_income = 12000\n",
    "# Consolidate financial assets data\n",
    "# YOUR CODE HERE!\n",
    "df_savings = pd.DataFrame({\n",
    "    \"\":['Crypto','Shares'],\n",
    "    \"Amount\":[(my_btc_value+my_eth_value ),(my_spy_value+my_agg_value)]\n",
    "})\n",
    "df_savings = df_savings.set_index(\"\")\n",
    "# Create savings DataFrame\n",
    "# YOUR CODE HERE!\n",
    "display(df_savings)\n",
    "# Display savings DataFrame\n"
   ]
  },
  {
   "cell_type": "code",
   "execution_count": 81,
   "metadata": {
    "tags": []
   },
   "outputs": [
    {
     "data": {
      "image/png": "[encoded data removed]",
      "text/plain": [
       "<Figure size 640x480 with 1 Axes>"
      ]
     },
     "metadata": {},
     "output_type": "display_data"
    }
   ],
   "source": [
    "# Plot savings pie chart\n",
    "# YOUR CODE HERE!\n",
    "plot = df_savings.plot.pie(y='Amount')"
   ]
  },
  {
   "cell_type": "code",
   "execution_count": 82,
   "metadata": {
    "tags": []
   },
   "outputs": [
    {
     "name": "stdout",
     "output_type": "stream",
     "text": [
      "Congratulations! You have enough money in your emergency fund.\n"
     ]
    }
   ],
   "source": [
    "# Set ideal emergency fund\n",
    "emergency_fund = monthly_income * 3\n",
    "\n",
    "# Calculate total amount of savings\n",
    "# YOUR CODE HERE!\n",
    "total_savings = my_btc_value+my_eth_value + my_spy_value+my_agg_value\n",
    "differnce = emergency_fund - total_savings\n",
    "# Validate saving health\n",
    "# YOUR CODE HERE!\n",
    "if total_savings > emergency_fund:\n",
    "    print(\"Congratulations! You have enough money in your emergency fund.\")\n",
    "elif total_savings == emergency_fund:\n",
    "    print(\"Congratualtions! You have reached the financial goal of equal savings and emergency funds.\")\n",
    "else:\n",
    "    print(f\"You are {differnce} away from reaching the financial goal\")"
   ]
  },
  {
   "cell_type": "markdown",
   "metadata": {},
   "source": [
    "## Part 2 - Retirement Planning\n",
    "\n",
    "### Monte Carlo Simulation"
   ]
  },
  {
   "cell_type": "code",
   "execution_count": 83,
   "metadata": {
    "tags": []
   },
   "outputs": [],
   "source": [
    "# Set start and end dates of five years back from today.\n",
    "# Sample results may vary from the solution based on the time frame chosen\n",
    "start_date = pd.Timestamp('2016-05-01', tz='America/New_York').isoformat()\n",
    "end_date = pd.Timestamp('2021-05-01', tz='America/New_York').isoformat()"
   ]
  },
  {
   "cell_type": "code",
   "execution_count": 98,
   "metadata": {
    "tags": []
   },
   "outputs": [
    {
     "data": {
      "text/html": [
       "<div>\n",
       "<style scoped>\n",
       "    .dataframe tbody tr th:only-of-type {\n",
       "        vertical-align: middle;\n",
       "    }\n",
       "\n",
       "    .dataframe tbody tr th {\n",
       "        vertical-align: top;\n",
       "    }\n",
       "\n",
       "    .dataframe thead tr th {\n",
       "        text-align: left;\n",
       "    }\n",
       "\n",
       "    .dataframe thead tr:last-of-type th {\n",
       "        text-align: right;\n",
       "    }\n",
       "</style>\n",
       "<table border=\"1\" class=\"dataframe\">\n",
       "  <thead>\n",
       "    <tr>\n",
       "      <th></th>\n",
       "      <th colspan=\"7\" halign=\"left\">AGG</th>\n",
       "      <th colspan=\"7\" halign=\"left\">SPY</th>\n",
       "    </tr>\n",
       "    <tr>\n",
       "      <th></th>\n",
       "      <th>open</th>\n",
       "      <th>high</th>\n",
       "      <th>low</th>\n",
       "      <th>close</th>\n",
       "      <th>volume</th>\n",
       "      <th>trade_count</th>\n",
       "      <th>vwap</th>\n",
       "      <th>open</th>\n",
       "      <th>high</th>\n",
       "      <th>low</th>\n",
       "      <th>close</th>\n",
       "      <th>volume</th>\n",
       "      <th>trade_count</th>\n",
       "      <th>vwap</th>\n",
       "    </tr>\n",
       "    <tr>\n",
       "      <th>timestamp</th>\n",
       "      <th></th>\n",
       "      <th></th>\n",
       "      <th></th>\n",
       "      <th></th>\n",
       "      <th></th>\n",
       "      <th></th>\n",
       "      <th></th>\n",
       "      <th></th>\n",
       "      <th></th>\n",
       "      <th></th>\n",
       "      <th></th>\n",
       "      <th></th>\n",
       "      <th></th>\n",
       "      <th></th>\n",
       "    </tr>\n",
       "  </thead>\n",
       "  <tbody>\n",
       "    <tr>\n",
       "      <th>2016-05-02 04:00:00+00:00</th>\n",
       "      <td>110.74</td>\n",
       "      <td>110.7400</td>\n",
       "      <td>110.5200</td>\n",
       "      <td>110.605</td>\n",
       "      <td>3553939</td>\n",
       "      <td>15119</td>\n",
       "      <td>110.627199</td>\n",
       "      <td>206.92</td>\n",
       "      <td>208.18</td>\n",
       "      <td>206.4100</td>\n",
       "      <td>207.9700</td>\n",
       "      <td>61908515</td>\n",
       "      <td>263580</td>\n",
       "      <td>207.294812</td>\n",
       "    </tr>\n",
       "    <tr>\n",
       "      <th>2016-05-03 04:00:00+00:00</th>\n",
       "      <td>110.89</td>\n",
       "      <td>110.9450</td>\n",
       "      <td>110.7500</td>\n",
       "      <td>110.810</td>\n",
       "      <td>3044940</td>\n",
       "      <td>15662</td>\n",
       "      <td>110.865995</td>\n",
       "      <td>206.52</td>\n",
       "      <td>206.80</td>\n",
       "      <td>205.2800</td>\n",
       "      <td>206.1592</td>\n",
       "      <td>106422142</td>\n",
       "      <td>377518</td>\n",
       "      <td>206.312060</td>\n",
       "    </tr>\n",
       "    <tr>\n",
       "      <th>2016-05-04 04:00:00+00:00</th>\n",
       "      <td>110.91</td>\n",
       "      <td>110.9315</td>\n",
       "      <td>110.7595</td>\n",
       "      <td>110.860</td>\n",
       "      <td>2920608</td>\n",
       "      <td>13982</td>\n",
       "      <td>110.879063</td>\n",
       "      <td>204.99</td>\n",
       "      <td>205.85</td>\n",
       "      <td>204.4200</td>\n",
       "      <td>205.0100</td>\n",
       "      <td>92199810</td>\n",
       "      <td>345261</td>\n",
       "      <td>205.090172</td>\n",
       "    </tr>\n",
       "    <tr>\n",
       "      <th>2016-05-05 04:00:00+00:00</th>\n",
       "      <td>110.92</td>\n",
       "      <td>111.1600</td>\n",
       "      <td>110.8010</td>\n",
       "      <td>111.140</td>\n",
       "      <td>3008142</td>\n",
       "      <td>15707</td>\n",
       "      <td>111.028363</td>\n",
       "      <td>205.56</td>\n",
       "      <td>205.98</td>\n",
       "      <td>204.4700</td>\n",
       "      <td>204.9700</td>\n",
       "      <td>67597222</td>\n",
       "      <td>280622</td>\n",
       "      <td>205.141555</td>\n",
       "    </tr>\n",
       "    <tr>\n",
       "      <th>2016-05-06 04:00:00+00:00</th>\n",
       "      <td>111.12</td>\n",
       "      <td>111.1200</td>\n",
       "      <td>110.9700</td>\n",
       "      <td>110.970</td>\n",
       "      <td>2718710</td>\n",
       "      <td>12697</td>\n",
       "      <td>111.031967</td>\n",
       "      <td>204.08</td>\n",
       "      <td>205.77</td>\n",
       "      <td>203.8800</td>\n",
       "      <td>205.7200</td>\n",
       "      <td>89131004</td>\n",
       "      <td>340335</td>\n",
       "      <td>204.937074</td>\n",
       "    </tr>\n",
       "    <tr>\n",
       "      <th>...</th>\n",
       "      <td>...</td>\n",
       "      <td>...</td>\n",
       "      <td>...</td>\n",
       "      <td>...</td>\n",
       "      <td>...</td>\n",
       "      <td>...</td>\n",
       "      <td>...</td>\n",
       "      <td>...</td>\n",
       "      <td>...</td>\n",
       "      <td>...</td>\n",
       "      <td>...</td>\n",
       "      <td>...</td>\n",
       "      <td>...</td>\n",
       "      <td>...</td>\n",
       "    </tr>\n",
       "    <tr>\n",
       "      <th>2021-04-26 04:00:00+00:00</th>\n",
       "      <td>114.74</td>\n",
       "      <td>114.8015</td>\n",
       "      <td>114.6500</td>\n",
       "      <td>114.650</td>\n",
       "      <td>3480303</td>\n",
       "      <td>13520</td>\n",
       "      <td>114.706244</td>\n",
       "      <td>417.44</td>\n",
       "      <td>418.22</td>\n",
       "      <td>416.8111</td>\n",
       "      <td>417.6100</td>\n",
       "      <td>51824860</td>\n",
       "      <td>295870</td>\n",
       "      <td>417.508245</td>\n",
       "    </tr>\n",
       "    <tr>\n",
       "      <th>2021-04-27 04:00:00+00:00</th>\n",
       "      <td>115.13</td>\n",
       "      <td>115.1300</td>\n",
       "      <td>114.3700</td>\n",
       "      <td>114.370</td>\n",
       "      <td>3820640</td>\n",
       "      <td>12720</td>\n",
       "      <td>114.498315</td>\n",
       "      <td>417.93</td>\n",
       "      <td>418.14</td>\n",
       "      <td>416.3000</td>\n",
       "      <td>417.5200</td>\n",
       "      <td>50297139</td>\n",
       "      <td>296300</td>\n",
       "      <td>417.481360</td>\n",
       "    </tr>\n",
       "    <tr>\n",
       "      <th>2021-04-28 04:00:00+00:00</th>\n",
       "      <td>114.45</td>\n",
       "      <td>114.4685</td>\n",
       "      <td>114.2000</td>\n",
       "      <td>114.430</td>\n",
       "      <td>7075831</td>\n",
       "      <td>24303</td>\n",
       "      <td>114.379810</td>\n",
       "      <td>417.81</td>\n",
       "      <td>419.01</td>\n",
       "      <td>416.9000</td>\n",
       "      <td>417.4000</td>\n",
       "      <td>50692781</td>\n",
       "      <td>330049</td>\n",
       "      <td>417.742098</td>\n",
       "    </tr>\n",
       "    <tr>\n",
       "      <th>2021-04-29 04:00:00+00:00</th>\n",
       "      <td>114.14</td>\n",
       "      <td>114.3700</td>\n",
       "      <td>114.0900</td>\n",
       "      <td>114.370</td>\n",
       "      <td>6208142</td>\n",
       "      <td>21096</td>\n",
       "      <td>114.250702</td>\n",
       "      <td>420.32</td>\n",
       "      <td>420.72</td>\n",
       "      <td>416.4400</td>\n",
       "      <td>420.0600</td>\n",
       "      <td>76965583</td>\n",
       "      <td>443396</td>\n",
       "      <td>418.824046</td>\n",
       "    </tr>\n",
       "    <tr>\n",
       "      <th>2021-04-30 04:00:00+00:00</th>\n",
       "      <td>114.41</td>\n",
       "      <td>114.5150</td>\n",
       "      <td>114.3300</td>\n",
       "      <td>114.490</td>\n",
       "      <td>6469432</td>\n",
       "      <td>19582</td>\n",
       "      <td>114.456246</td>\n",
       "      <td>417.63</td>\n",
       "      <td>418.54</td>\n",
       "      <td>416.3400</td>\n",
       "      <td>417.3000</td>\n",
       "      <td>84731942</td>\n",
       "      <td>478844</td>\n",
       "      <td>417.651995</td>\n",
       "    </tr>\n",
       "  </tbody>\n",
       "</table>\n",
       "<p>1259 rows × 14 columns</p>\n",
       "</div>"
      ],
      "text/plain": [
       "                              AGG                                        \\\n",
       "                             open      high       low    close   volume   \n",
       "timestamp                                                                 \n",
       "2016-05-02 04:00:00+00:00  110.74  110.7400  110.5200  110.605  3553939   \n",
       "2016-05-03 04:00:00+00:00  110.89  110.9450  110.7500  110.810  3044940   \n",
       "2016-05-04 04:00:00+00:00  110.91  110.9315  110.7595  110.860  2920608   \n",
       "2016-05-05 04:00:00+00:00  110.92  111.1600  110.8010  111.140  3008142   \n",
       "2016-05-06 04:00:00+00:00  111.12  111.1200  110.9700  110.970  2718710   \n",
       "...                           ...       ...       ...      ...      ...   \n",
       "2021-04-26 04:00:00+00:00  114.74  114.8015  114.6500  114.650  3480303   \n",
       "2021-04-27 04:00:00+00:00  115.13  115.1300  114.3700  114.370  3820640   \n",
       "2021-04-28 04:00:00+00:00  114.45  114.4685  114.2000  114.430  7075831   \n",
       "2021-04-29 04:00:00+00:00  114.14  114.3700  114.0900  114.370  6208142   \n",
       "2021-04-30 04:00:00+00:00  114.41  114.5150  114.3300  114.490  6469432   \n",
       "\n",
       "                                                      SPY                    \\\n",
       "                          trade_count        vwap    open    high       low   \n",
       "timestamp                                                                     \n",
       "2016-05-02 04:00:00+00:00       15119  110.627199  206.92  208.18  206.4100   \n",
       "2016-05-03 04:00:00+00:00       15662  110.865995  206.52  206.80  205.2800   \n",
       "2016-05-04 04:00:00+00:00       13982  110.879063  204.99  205.85  204.4200   \n",
       "2016-05-05 04:00:00+00:00       15707  111.028363  205.56  205.98  204.4700   \n",
       "2016-05-06 04:00:00+00:00       12697  111.031967  204.08  205.77  203.8800   \n",
       "...                               ...         ...     ...     ...       ...   \n",
       "2021-04-26 04:00:00+00:00       13520  114.706244  417.44  418.22  416.8111   \n",
       "2021-04-27 04:00:00+00:00       12720  114.498315  417.93  418.14  416.3000   \n",
       "2021-04-28 04:00:00+00:00       24303  114.379810  417.81  419.01  416.9000   \n",
       "2021-04-29 04:00:00+00:00       21096  114.250702  420.32  420.72  416.4400   \n",
       "2021-04-30 04:00:00+00:00       19582  114.456246  417.63  418.54  416.3400   \n",
       "\n",
       "                                                                        \n",
       "                              close     volume trade_count        vwap  \n",
       "timestamp                                                               \n",
       "2016-05-02 04:00:00+00:00  207.9700   61908515      263580  207.294812  \n",
       "2016-05-03 04:00:00+00:00  206.1592  106422142      377518  206.312060  \n",
       "2016-05-04 04:00:00+00:00  205.0100   92199810      345261  205.090172  \n",
       "2016-05-05 04:00:00+00:00  204.9700   67597222      280622  205.141555  \n",
       "2016-05-06 04:00:00+00:00  205.7200   89131004      340335  204.937074  \n",
       "...                             ...        ...         ...         ...  \n",
       "2021-04-26 04:00:00+00:00  417.6100   51824860      295870  417.508245  \n",
       "2021-04-27 04:00:00+00:00  417.5200   50297139      296300  417.481360  \n",
       "2021-04-28 04:00:00+00:00  417.4000   50692781      330049  417.742098  \n",
       "2021-04-29 04:00:00+00:00  420.0600   76965583      443396  418.824046  \n",
       "2021-04-30 04:00:00+00:00  417.3000   84731942      478844  417.651995  \n",
       "\n",
       "[1259 rows x 14 columns]"
      ]
     },
     "metadata": {},
     "output_type": "display_data"
    }
   ],
   "source": [
    "# Get 5 years' worth of historical data for SPY and AGG\n",
    "# YOUR CODE HERE!\n",
    "df_5_years  = api.get_bars(\n",
    "    tickers,\n",
    "    timeframe,\n",
    "    start = start_date,\n",
    "    end = end_date\n",
    ").df\n",
    "df_5_years\n",
    "# Reorganize the DataFrame\n",
    "# Separate ticker data\n",
    "# YOUR CODE HERE!\n",
    "df_AGG = df_5_years[df_5_years['symbol'] == 'AGG'].drop('symbol',axis = 1)\n",
    "df_SPY = df_5_years[df_5_years['symbol']=='SPY'].drop('symbol', axis=1)\n",
    "# Concatenate the ticker DataFrames\n",
    "# YOUR CODE HERE!\n",
    "df_Spy_Agg = pd.concat([df_AGG, df_SPY], axis=1, keys=[\"AGG\", \"SPY\"])\n",
    "# Display sample data\n",
    "display(df_Spy_Agg)"
   ]
  },
  {
   "cell_type": "code",
   "execution_count": 117,
   "metadata": {
    "tags": []
   },
   "outputs": [],
   "source": [
    "# Configuring a Monte Carlo simulation to forecast 30 years cumulative returns\n",
    "# YOUR CODE HERE!\n",
    "\n",
    "MC30year = MCSimulation(\n",
    "    portfolio_data = df_Spy_Agg,\n",
    "    weights = [.40,.60],\n",
    "    num_simulation = 500,\n",
    "    num_trading_days = 252*30\n",
    ")"
   ]
  },
  {
   "cell_type": "code",
   "execution_count": 118,
   "metadata": {
    "tags": []
   },
   "outputs": [
    {
     "data": {
      "text/html": [
       "<div>\n",
       "<style scoped>\n",
       "    .dataframe tbody tr th:only-of-type {\n",
       "        vertical-align: middle;\n",
       "    }\n",
       "\n",
       "    .dataframe tbody tr th {\n",
       "        vertical-align: top;\n",
       "    }\n",
       "\n",
       "    .dataframe thead tr th {\n",
       "        text-align: left;\n",
       "    }\n",
       "\n",
       "    .dataframe thead tr:last-of-type th {\n",
       "        text-align: right;\n",
       "    }\n",
       "</style>\n",
       "<table border=\"1\" class=\"dataframe\">\n",
       "  <thead>\n",
       "    <tr>\n",
       "      <th></th>\n",
       "      <th colspan=\"8\" halign=\"left\">AGG</th>\n",
       "      <th colspan=\"8\" halign=\"left\">SPY</th>\n",
       "    </tr>\n",
       "    <tr>\n",
       "      <th></th>\n",
       "      <th>open</th>\n",
       "      <th>high</th>\n",
       "      <th>low</th>\n",
       "      <th>close</th>\n",
       "      <th>volume</th>\n",
       "      <th>trade_count</th>\n",
       "      <th>vwap</th>\n",
       "      <th>daily_return</th>\n",
       "      <th>open</th>\n",
       "      <th>high</th>\n",
       "      <th>low</th>\n",
       "      <th>close</th>\n",
       "      <th>volume</th>\n",
       "      <th>trade_count</th>\n",
       "      <th>vwap</th>\n",
       "      <th>daily_return</th>\n",
       "    </tr>\n",
       "    <tr>\n",
       "      <th>timestamp</th>\n",
       "      <th></th>\n",
       "      <th></th>\n",
       "      <th></th>\n",
       "      <th></th>\n",
       "      <th></th>\n",
       "      <th></th>\n",
       "      <th></th>\n",
       "      <th></th>\n",
       "      <th></th>\n",
       "      <th></th>\n",
       "      <th></th>\n",
       "      <th></th>\n",
       "      <th></th>\n",
       "      <th></th>\n",
       "      <th></th>\n",
       "      <th></th>\n",
       "    </tr>\n",
       "  </thead>\n",
       "  <tbody>\n",
       "    <tr>\n",
       "      <th>2016-05-02 04:00:00+00:00</th>\n",
       "      <td>110.74</td>\n",
       "      <td>110.7400</td>\n",
       "      <td>110.5200</td>\n",
       "      <td>110.605</td>\n",
       "      <td>3553939</td>\n",
       "      <td>15119</td>\n",
       "      <td>110.627199</td>\n",
       "      <td>NaN</td>\n",
       "      <td>206.92</td>\n",
       "      <td>208.18</td>\n",
       "      <td>206.41</td>\n",
       "      <td>207.9700</td>\n",
       "      <td>61908515</td>\n",
       "      <td>263580</td>\n",
       "      <td>207.294812</td>\n",
       "      <td>NaN</td>\n",
       "    </tr>\n",
       "    <tr>\n",
       "      <th>2016-05-03 04:00:00+00:00</th>\n",
       "      <td>110.89</td>\n",
       "      <td>110.9450</td>\n",
       "      <td>110.7500</td>\n",
       "      <td>110.810</td>\n",
       "      <td>3044940</td>\n",
       "      <td>15662</td>\n",
       "      <td>110.865995</td>\n",
       "      <td>0.001853</td>\n",
       "      <td>206.52</td>\n",
       "      <td>206.80</td>\n",
       "      <td>205.28</td>\n",
       "      <td>206.1592</td>\n",
       "      <td>106422142</td>\n",
       "      <td>377518</td>\n",
       "      <td>206.312060</td>\n",
       "      <td>-0.008707</td>\n",
       "    </tr>\n",
       "    <tr>\n",
       "      <th>2016-05-04 04:00:00+00:00</th>\n",
       "      <td>110.91</td>\n",
       "      <td>110.9315</td>\n",
       "      <td>110.7595</td>\n",
       "      <td>110.860</td>\n",
       "      <td>2920608</td>\n",
       "      <td>13982</td>\n",
       "      <td>110.879063</td>\n",
       "      <td>0.000451</td>\n",
       "      <td>204.99</td>\n",
       "      <td>205.85</td>\n",
       "      <td>204.42</td>\n",
       "      <td>205.0100</td>\n",
       "      <td>92199810</td>\n",
       "      <td>345261</td>\n",
       "      <td>205.090172</td>\n",
       "      <td>-0.005574</td>\n",
       "    </tr>\n",
       "    <tr>\n",
       "      <th>2016-05-05 04:00:00+00:00</th>\n",
       "      <td>110.92</td>\n",
       "      <td>111.1600</td>\n",
       "      <td>110.8010</td>\n",
       "      <td>111.140</td>\n",
       "      <td>3008142</td>\n",
       "      <td>15707</td>\n",
       "      <td>111.028363</td>\n",
       "      <td>0.002526</td>\n",
       "      <td>205.56</td>\n",
       "      <td>205.98</td>\n",
       "      <td>204.47</td>\n",
       "      <td>204.9700</td>\n",
       "      <td>67597222</td>\n",
       "      <td>280622</td>\n",
       "      <td>205.141555</td>\n",
       "      <td>-0.000195</td>\n",
       "    </tr>\n",
       "    <tr>\n",
       "      <th>2016-05-06 04:00:00+00:00</th>\n",
       "      <td>111.12</td>\n",
       "      <td>111.1200</td>\n",
       "      <td>110.9700</td>\n",
       "      <td>110.970</td>\n",
       "      <td>2718710</td>\n",
       "      <td>12697</td>\n",
       "      <td>111.031967</td>\n",
       "      <td>-0.001530</td>\n",
       "      <td>204.08</td>\n",
       "      <td>205.77</td>\n",
       "      <td>203.88</td>\n",
       "      <td>205.7200</td>\n",
       "      <td>89131004</td>\n",
       "      <td>340335</td>\n",
       "      <td>204.937074</td>\n",
       "      <td>0.003659</td>\n",
       "    </tr>\n",
       "  </tbody>\n",
       "</table>\n",
       "</div>"
      ],
      "text/plain": [
       "                              AGG                                        \\\n",
       "                             open      high       low    close   volume   \n",
       "timestamp                                                                 \n",
       "2016-05-02 04:00:00+00:00  110.74  110.7400  110.5200  110.605  3553939   \n",
       "2016-05-03 04:00:00+00:00  110.89  110.9450  110.7500  110.810  3044940   \n",
       "2016-05-04 04:00:00+00:00  110.91  110.9315  110.7595  110.860  2920608   \n",
       "2016-05-05 04:00:00+00:00  110.92  111.1600  110.8010  111.140  3008142   \n",
       "2016-05-06 04:00:00+00:00  111.12  111.1200  110.9700  110.970  2718710   \n",
       "\n",
       "                                                                   SPY  \\\n",
       "                          trade_count        vwap daily_return    open   \n",
       "timestamp                                                                \n",
       "2016-05-02 04:00:00+00:00       15119  110.627199          NaN  206.92   \n",
       "2016-05-03 04:00:00+00:00       15662  110.865995     0.001853  206.52   \n",
       "2016-05-04 04:00:00+00:00       13982  110.879063     0.000451  204.99   \n",
       "2016-05-05 04:00:00+00:00       15707  111.028363     0.002526  205.56   \n",
       "2016-05-06 04:00:00+00:00       12697  111.031967    -0.001530  204.08   \n",
       "\n",
       "                                                                            \\\n",
       "                             high     low     close     volume trade_count   \n",
       "timestamp                                                                    \n",
       "2016-05-02 04:00:00+00:00  208.18  206.41  207.9700   61908515      263580   \n",
       "2016-05-03 04:00:00+00:00  206.80  205.28  206.1592  106422142      377518   \n",
       "2016-05-04 04:00:00+00:00  205.85  204.42  205.0100   92199810      345261   \n",
       "2016-05-05 04:00:00+00:00  205.98  204.47  204.9700   67597222      280622   \n",
       "2016-05-06 04:00:00+00:00  205.77  203.88  205.7200   89131004      340335   \n",
       "\n",
       "                                                    \n",
       "                                 vwap daily_return  \n",
       "timestamp                                           \n",
       "2016-05-02 04:00:00+00:00  207.294812          NaN  \n",
       "2016-05-03 04:00:00+00:00  206.312060    -0.008707  \n",
       "2016-05-04 04:00:00+00:00  205.090172    -0.005574  \n",
       "2016-05-05 04:00:00+00:00  205.141555    -0.000195  \n",
       "2016-05-06 04:00:00+00:00  204.937074     0.003659  "
      ]
     },
     "execution_count": 118,
     "metadata": {},
     "output_type": "execute_result"
    }
   ],
   "source": [
    "# Printing the simulation input data\n",
    "# YOUR CODE HERE!\n",
    "MC30year.portfolio_data.head()"
   ]
  },
  {
   "cell_type": "code",
   "execution_count": 2,
   "metadata": {
    "tags": []
   },
   "outputs": [
    {
     "ename": "NameError",
     "evalue": "name 'MC30year' is not defined",
     "output_type": "error",
     "traceback": [
      "\u001b[0;31m---------------------------------------------------------------------------\u001b[0m",
      "\u001b[0;31mNameError\u001b[0m                                 Traceback (most recent call last)",
      "Cell \u001b[0;32mIn[2], line 3\u001b[0m\n\u001b[1;32m      1\u001b[0m \u001b[38;5;66;03m# Running a Monte Carlo simulation to forecast 30 years cumulative returns\u001b[39;00m\n\u001b[1;32m      2\u001b[0m \u001b[38;5;66;03m# YOUR CODE HERE!\u001b[39;00m\n\u001b[0;32m----> 3\u001b[0m \u001b[43mMC30year\u001b[49m\u001b[38;5;241m.\u001b[39mcalc_cumulative_return\n",
      "\u001b[0;31mNameError\u001b[0m: name 'MC30year' is not defined"
     ]
    }
   ],
   "source": [
    "# Running a Monte Carlo simulation to forecast 30 years cumulative returns\n",
    "# YOUR CODE HERE!\n",
    "MC30year.calc_cumulative_return()"
   ]
  },
  {
   "cell_type": "code",
   "execution_count": 121,
   "metadata": {
    "tags": []
   },
   "outputs": [
    {
     "data": {
      "text/plain": [
       "<Axes: title={'center': '500 Simulations of Cumulative Portfolio Return Trajectories Over the Next 7560 Trading Days.'}>"
      ]
     },
     "execution_count": 121,
     "metadata": {},
     "output_type": "execute_result"
    },
    {
     "data": {
      "image/png": "[encoded data removed]",
      "text/plain": [
       "<Figure size 640x480 with 1 Axes>"
      ]
     },
     "metadata": {},
     "output_type": "display_data"
    }
   ],
   "source": [
    "# Plot simulation outcomes\n",
    "# YOUR CODE HERE!\n",
    "line_plot = MC30year.plot_simulation()\n",
    "line_plot"
   ]
  },
  {
   "cell_type": "code",
   "execution_count": 122,
   "metadata": {
    "tags": []
   },
   "outputs": [
    {
     "data": {
      "text/plain": [
       "<Axes: title={'center': 'Distribution of Final Cumuluative Returns Across All 500 Simulations'}, ylabel='Frequency'>"
      ]
     },
     "execution_count": 122,
     "metadata": {},
     "output_type": "execute_result"
    },
    {
     "data": {
      "image/png": "[encoded data removed]",
      "text/plain": [
       "<Figure size 640x480 with 1 Axes>"
      ]
     },
     "metadata": {},
     "output_type": "display_data"
    }
   ],
   "source": [
    "# Plot probability distribution and confidence intervals\n",
    "# YOUR CODE HERE!\n",
    "dist_plot = MC30year.plot_distribution()\n",
    "dist_plot"
   ]
  },
  {
   "cell_type": "markdown",
   "metadata": {},
   "source": [
    "### Retirement Analysis"
   ]
  },
  {
   "cell_type": "code",
   "execution_count": 124,
   "metadata": {
    "tags": []
   },
   "outputs": [
    {
     "name": "stderr",
     "output_type": "stream",
     "text": [
      "/Users/ashwinrao/Desktop/FINTECH COURSE/Course Files Up To Week 6/05-APIs/Homework/Instructions/Starter_Code/MCForecastTools.py:172: FutureWarning: The series.append method is deprecated and will be removed from pandas in a future version. Use pandas.concat instead.\n",
      "  return metrics.append(ci_series)\n"
     ]
    },
    {
     "data": {
      "text/plain": [
       "count           500.000000\n",
       "mean             19.139937\n",
       "std              13.903841\n",
       "min               2.673724\n",
       "25%               9.961871\n",
       "50%              15.395488\n",
       "75%              23.866470\n",
       "max             107.813835\n",
       "95% CI Lower      4.626745\n",
       "95% CI Upper     57.783852\n",
       "Name: 7560, dtype: float64"
      ]
     },
     "execution_count": 124,
     "metadata": {},
     "output_type": "execute_result"
    }
   ],
   "source": [
    "# Fetch summary statistics from the Monte Carlo simulation results\n",
    "# YOUR CODE HERE!\n",
    "summary = MC30year.summarize_cumulative_return()\n",
    "# Print summary statistics\n",
    "# YOUR CODE HERE!\n",
    "summary"
   ]
  },
  {
   "cell_type": "markdown",
   "metadata": {},
   "source": [
    "### Calculate the expected portfolio return at the `95%` lower and upper confidence intervals based on a `$20,000` initial investment."
   ]
  },
  {
   "cell_type": "code",
   "execution_count": 125,
   "metadata": {
    "tags": []
   },
   "outputs": [
    {
     "name": "stdout",
     "output_type": "stream",
     "text": [
      "There is a 95% chance that an initial investment of $20000 in the portfolio over the next 30 years will end within in the range of $92535 and $1155677\n"
     ]
    }
   ],
   "source": [
    "# Set initial investment\n",
    "initial_investment = 20000\n",
    "\n",
    "# Use the lower and upper `95%` confidence intervals to calculate the range of the possible outcomes of our $20,000\n",
    "# YOUR CODE HERE!\n",
    "ci_lower = round(initial_investment*4.626745)\n",
    "ci_upper = round(initial_investment*57.783852)\n",
    "\n",
    "# Print results\n",
    "print(f\"There is a 95% chance that an initial investment of ${initial_investment} in the portfolio\"\n",
    "      f\" over the next 30 years will end within in the range of\"\n",
    "      f\" ${ci_lower} and ${ci_upper}\")"
   ]
  },
  {
   "cell_type": "markdown",
   "metadata": {},
   "source": [
    "### Calculate the expected portfolio return at the `95%` lower and upper confidence intervals based on a `50%` increase in the initial investment."
   ]
  },
  {
   "cell_type": "code",
   "execution_count": 126,
   "metadata": {
    "tags": []
   },
   "outputs": [
    {
     "name": "stdout",
     "output_type": "stream",
     "text": [
      "There is a 95% chance that an initial investment of $30000.0 in the portfolio over the next 30 years will end within in the range of $138802 and $1733516\n"
     ]
    }
   ],
   "source": [
    "# Set initial investment\n",
    "initial_investment = 20000 * 1.5\n",
    "\n",
    "# Use the lower and upper `95%` confidence intervals to calculate the range of the possible outcomes of our $30,000\n",
    "# YOUR CODE HERE!\n",
    "ci_lower_new = round(initial_investment*4.626745)\n",
    "ci_upper_new = round(initial_investment*57.783852)\n",
    "# Print results\n",
    "print(f\"There is a 95% chance that an initial investment of ${initial_investment} in the portfolio\"\n",
    "      f\" over the next 30 years will end within in the range of\"\n",
    "      f\" ${ci_lower_new} and ${ci_upper_new}\")"
   ]
  },
  {
   "cell_type": "markdown",
   "metadata": {},
   "source": [
    "## Optional Challenge - Early Retirement\n",
    "\n",
    "\n",
    "### Five Years Retirement Option"
   ]
  },
  {
   "cell_type": "code",
   "execution_count": 6,
   "metadata": {
    "tags": []
   },
   "outputs": [],
   "source": [
    "# Configuring a Monte Carlo simulation to forecast 5 years cumulative returns\n",
    "# YOUR CODE HERE!"
   ]
  },
  {
   "cell_type": "code",
   "execution_count": 7,
   "metadata": {
    "tags": []
   },
   "outputs": [],
   "source": [
    "# Running a Monte Carlo simulation to forecast 5 years cumulative returns\n",
    "# YOUR CODE HERE!\n"
   ]
  },
  {
   "cell_type": "code",
   "execution_count": 8,
   "metadata": {
    "tags": []
   },
   "outputs": [],
   "source": [
    "# Plot simulation outcomes\n",
    "# YOUR CODE HERE!\n"
   ]
  },
  {
   "cell_type": "code",
   "execution_count": 9,
   "metadata": {
    "tags": []
   },
   "outputs": [],
   "source": [
    "# Plot probability distribution and confidence intervals\n",
    "# YOUR CODE HERE!\n",
    "\n"
   ]
  },
  {
   "cell_type": "code",
   "execution_count": 10,
   "metadata": {},
   "outputs": [],
   "source": [
    "# Fetch summary statistics from the Monte Carlo simulation results\n",
    "# YOUR CODE HERE!\n",
    "\n",
    "# Print summary statistics\n",
    "# YOUR CODE HERE!"
   ]
  },
  {
   "cell_type": "code",
   "execution_count": 11,
   "metadata": {},
   "outputs": [
    {
     "ename": "SyntaxError",
     "evalue": "invalid syntax (1057451588.py, line 3)",
     "output_type": "error",
     "traceback": [
      "\u001b[0;36m  Cell \u001b[0;32mIn[11], line 3\u001b[0;36m\u001b[0m\n\u001b[0;31m    =\u001b[0m\n\u001b[0m    ^\u001b[0m\n\u001b[0;31mSyntaxError\u001b[0m\u001b[0;31m:\u001b[0m invalid syntax\n"
     ]
    }
   ],
   "source": [
    "# Set initial investment\n",
    "# YOUR CODE HERE!\n",
    "=\n",
    "\n",
    "# Use the lower and upper `95%` confidence intervals to calculate the range of the possible outcomes of our $60,000\n",
    "# YOUR CODE HERE!\n",
    "\n",
    "# Print results\n",
    "print(f\"There is a 95% chance that an initial investment of ${initial_investment} in the portfolio\"\n",
    "      f\" over the next 5 years will end within in the range of\"\n",
    "      f\" ${ci_lower_five} and ${ci_upper_five}\")"
   ]
  },
  {
   "cell_type": "markdown",
   "metadata": {},
   "source": [
    "### Ten Years Retirement Option"
   ]
  },
  {
   "cell_type": "code",
   "execution_count": 12,
   "metadata": {},
   "outputs": [],
   "source": [
    "# Configuring a Monte Carlo simulation to forecast 10 years cumulative returns\n",
    "# YOUR CODE HERE!"
   ]
  },
  {
   "cell_type": "code",
   "execution_count": 31,
   "metadata": {},
   "outputs": [
    {
     "name": "stdout",
     "output_type": "stream",
     "text": [
      "Running Monte Carlo simulation number 0.\n",
      "Running Monte Carlo simulation number 10.\n",
      "Running Monte Carlo simulation number 20.\n",
      "Running Monte Carlo simulation number 30.\n",
      "Running Monte Carlo simulation number 40.\n",
      "Running Monte Carlo simulation number 50.\n",
      "Running Monte Carlo simulation number 60.\n",
      "Running Monte Carlo simulation number 70.\n",
      "Running Monte Carlo simulation number 80.\n",
      "Running Monte Carlo simulation number 90.\n",
      "Running Monte Carlo simulation number 100.\n",
      "Running Monte Carlo simulation number 110.\n",
      "Running Monte Carlo simulation number 120.\n",
      "Running Monte Carlo simulation number 130.\n",
      "Running Monte Carlo simulation number 140.\n",
      "Running Monte Carlo simulation number 150.\n",
      "Running Monte Carlo simulation number 160.\n",
      "Running Monte Carlo simulation number 170.\n",
      "Running Monte Carlo simulation number 180.\n",
      "Running Monte Carlo simulation number 190.\n",
      "Running Monte Carlo simulation number 200.\n",
      "Running Monte Carlo simulation number 210.\n",
      "Running Monte Carlo simulation number 220.\n",
      "Running Monte Carlo simulation number 230.\n",
      "Running Monte Carlo simulation number 240.\n",
      "Running Monte Carlo simulation number 250.\n",
      "Running Monte Carlo simulation number 260.\n",
      "Running Monte Carlo simulation number 270.\n",
      "Running Monte Carlo simulation number 280.\n",
      "Running Monte Carlo simulation number 290.\n",
      "Running Monte Carlo simulation number 300.\n",
      "Running Monte Carlo simulation number 310.\n",
      "Running Monte Carlo simulation number 320.\n",
      "Running Monte Carlo simulation number 330.\n",
      "Running Monte Carlo simulation number 340.\n",
      "Running Monte Carlo simulation number 350.\n",
      "Running Monte Carlo simulation number 360.\n",
      "Running Monte Carlo simulation number 370.\n",
      "Running Monte Carlo simulation number 380.\n",
      "Running Monte Carlo simulation number 390.\n",
      "Running Monte Carlo simulation number 400.\n",
      "Running Monte Carlo simulation number 410.\n",
      "Running Monte Carlo simulation number 420.\n",
      "Running Monte Carlo simulation number 430.\n",
      "Running Monte Carlo simulation number 440.\n",
      "Running Monte Carlo simulation number 450.\n",
      "Running Monte Carlo simulation number 460.\n",
      "Running Monte Carlo simulation number 470.\n",
      "Running Monte Carlo simulation number 480.\n",
      "Running Monte Carlo simulation number 490.\n"
     ]
    },
    {
     "data": {
      "text/html": [
       "<div>\n",
       "<style scoped>\n",
       "    .dataframe tbody tr th:only-of-type {\n",
       "        vertical-align: middle;\n",
       "    }\n",
       "\n",
       "    .dataframe tbody tr th {\n",
       "        vertical-align: top;\n",
       "    }\n",
       "\n",
       "    .dataframe thead th {\n",
       "        text-align: right;\n",
       "    }\n",
       "</style>\n",
       "<table border=\"1\" class=\"dataframe\">\n",
       "  <thead>\n",
       "    <tr style=\"text-align: right;\">\n",
       "      <th></th>\n",
       "      <th>0</th>\n",
       "      <th>1</th>\n",
       "      <th>2</th>\n",
       "      <th>3</th>\n",
       "      <th>4</th>\n",
       "      <th>5</th>\n",
       "      <th>6</th>\n",
       "      <th>7</th>\n",
       "      <th>8</th>\n",
       "      <th>9</th>\n",
       "      <th>...</th>\n",
       "      <th>490</th>\n",
       "      <th>491</th>\n",
       "      <th>492</th>\n",
       "      <th>493</th>\n",
       "      <th>494</th>\n",
       "      <th>495</th>\n",
       "      <th>496</th>\n",
       "      <th>497</th>\n",
       "      <th>498</th>\n",
       "      <th>499</th>\n",
       "    </tr>\n",
       "  </thead>\n",
       "  <tbody>\n",
       "    <tr>\n",
       "      <th>0</th>\n",
       "      <td>1.000000</td>\n",
       "      <td>1.000000</td>\n",
       "      <td>1.000000</td>\n",
       "      <td>1.000000</td>\n",
       "      <td>1.000000</td>\n",
       "      <td>1.000000</td>\n",
       "      <td>1.000000</td>\n",
       "      <td>1.000000</td>\n",
       "      <td>1.000000</td>\n",
       "      <td>1.000000</td>\n",
       "      <td>...</td>\n",
       "      <td>1.000000</td>\n",
       "      <td>1.000000</td>\n",
       "      <td>1.000000</td>\n",
       "      <td>1.000000</td>\n",
       "      <td>1.000000</td>\n",
       "      <td>1.000000</td>\n",
       "      <td>1.000000</td>\n",
       "      <td>1.000000</td>\n",
       "      <td>1.000000</td>\n",
       "      <td>1.000000</td>\n",
       "    </tr>\n",
       "    <tr>\n",
       "      <th>1</th>\n",
       "      <td>1.004461</td>\n",
       "      <td>1.003269</td>\n",
       "      <td>0.998934</td>\n",
       "      <td>0.996767</td>\n",
       "      <td>1.000906</td>\n",
       "      <td>0.999279</td>\n",
       "      <td>0.995262</td>\n",
       "      <td>1.005752</td>\n",
       "      <td>0.993466</td>\n",
       "      <td>0.993655</td>\n",
       "      <td>...</td>\n",
       "      <td>1.001427</td>\n",
       "      <td>1.004350</td>\n",
       "      <td>0.996932</td>\n",
       "      <td>0.996844</td>\n",
       "      <td>0.997507</td>\n",
       "      <td>1.003457</td>\n",
       "      <td>0.998736</td>\n",
       "      <td>1.001195</td>\n",
       "      <td>0.999904</td>\n",
       "      <td>1.010218</td>\n",
       "    </tr>\n",
       "    <tr>\n",
       "      <th>2</th>\n",
       "      <td>1.007901</td>\n",
       "      <td>1.003304</td>\n",
       "      <td>0.993812</td>\n",
       "      <td>0.999973</td>\n",
       "      <td>1.000910</td>\n",
       "      <td>1.002347</td>\n",
       "      <td>0.996311</td>\n",
       "      <td>1.007234</td>\n",
       "      <td>0.993550</td>\n",
       "      <td>0.991021</td>\n",
       "      <td>...</td>\n",
       "      <td>0.997379</td>\n",
       "      <td>1.001952</td>\n",
       "      <td>0.998124</td>\n",
       "      <td>0.998063</td>\n",
       "      <td>1.001733</td>\n",
       "      <td>1.000273</td>\n",
       "      <td>0.994865</td>\n",
       "      <td>1.000109</td>\n",
       "      <td>0.994648</td>\n",
       "      <td>1.007838</td>\n",
       "    </tr>\n",
       "    <tr>\n",
       "      <th>3</th>\n",
       "      <td>1.007532</td>\n",
       "      <td>1.001077</td>\n",
       "      <td>0.990963</td>\n",
       "      <td>0.998339</td>\n",
       "      <td>1.001779</td>\n",
       "      <td>1.003653</td>\n",
       "      <td>0.994439</td>\n",
       "      <td>1.012230</td>\n",
       "      <td>0.999170</td>\n",
       "      <td>0.996484</td>\n",
       "      <td>...</td>\n",
       "      <td>0.995265</td>\n",
       "      <td>1.001745</td>\n",
       "      <td>0.995332</td>\n",
       "      <td>1.003023</td>\n",
       "      <td>1.003800</td>\n",
       "      <td>0.999755</td>\n",
       "      <td>0.997616</td>\n",
       "      <td>1.004730</td>\n",
       "      <td>0.993391</td>\n",
       "      <td>1.010444</td>\n",
       "    </tr>\n",
       "    <tr>\n",
       "      <th>4</th>\n",
       "      <td>1.020339</td>\n",
       "      <td>1.005743</td>\n",
       "      <td>0.991869</td>\n",
       "      <td>0.998218</td>\n",
       "      <td>1.005630</td>\n",
       "      <td>1.008717</td>\n",
       "      <td>0.987764</td>\n",
       "      <td>1.012750</td>\n",
       "      <td>0.999227</td>\n",
       "      <td>0.996474</td>\n",
       "      <td>...</td>\n",
       "      <td>0.999028</td>\n",
       "      <td>1.004730</td>\n",
       "      <td>0.995357</td>\n",
       "      <td>1.000204</td>\n",
       "      <td>1.008738</td>\n",
       "      <td>0.999273</td>\n",
       "      <td>0.999426</td>\n",
       "      <td>1.003776</td>\n",
       "      <td>0.991478</td>\n",
       "      <td>1.013379</td>\n",
       "    </tr>\n",
       "    <tr>\n",
       "      <th>...</th>\n",
       "      <td>...</td>\n",
       "      <td>...</td>\n",
       "      <td>...</td>\n",
       "      <td>...</td>\n",
       "      <td>...</td>\n",
       "      <td>...</td>\n",
       "      <td>...</td>\n",
       "      <td>...</td>\n",
       "      <td>...</td>\n",
       "      <td>...</td>\n",
       "      <td>...</td>\n",
       "      <td>...</td>\n",
       "      <td>...</td>\n",
       "      <td>...</td>\n",
       "      <td>...</td>\n",
       "      <td>...</td>\n",
       "      <td>...</td>\n",
       "      <td>...</td>\n",
       "      <td>...</td>\n",
       "      <td>...</td>\n",
       "      <td>...</td>\n",
       "    </tr>\n",
       "    <tr>\n",
       "      <th>2516</th>\n",
       "      <td>1.616922</td>\n",
       "      <td>1.761703</td>\n",
       "      <td>1.143430</td>\n",
       "      <td>1.687801</td>\n",
       "      <td>1.743826</td>\n",
       "      <td>1.174891</td>\n",
       "      <td>1.514199</td>\n",
       "      <td>2.447129</td>\n",
       "      <td>1.589765</td>\n",
       "      <td>1.570578</td>\n",
       "      <td>...</td>\n",
       "      <td>1.316494</td>\n",
       "      <td>1.863650</td>\n",
       "      <td>1.727959</td>\n",
       "      <td>1.411033</td>\n",
       "      <td>1.804671</td>\n",
       "      <td>1.500605</td>\n",
       "      <td>1.413278</td>\n",
       "      <td>1.552375</td>\n",
       "      <td>1.318340</td>\n",
       "      <td>1.960015</td>\n",
       "    </tr>\n",
       "    <tr>\n",
       "      <th>2517</th>\n",
       "      <td>1.620285</td>\n",
       "      <td>1.769184</td>\n",
       "      <td>1.145132</td>\n",
       "      <td>1.695693</td>\n",
       "      <td>1.742878</td>\n",
       "      <td>1.175745</td>\n",
       "      <td>1.517697</td>\n",
       "      <td>2.441471</td>\n",
       "      <td>1.586174</td>\n",
       "      <td>1.560826</td>\n",
       "      <td>...</td>\n",
       "      <td>1.318463</td>\n",
       "      <td>1.857860</td>\n",
       "      <td>1.724003</td>\n",
       "      <td>1.409092</td>\n",
       "      <td>1.810136</td>\n",
       "      <td>1.499466</td>\n",
       "      <td>1.413210</td>\n",
       "      <td>1.552539</td>\n",
       "      <td>1.316872</td>\n",
       "      <td>1.956776</td>\n",
       "    </tr>\n",
       "    <tr>\n",
       "      <th>2518</th>\n",
       "      <td>1.622141</td>\n",
       "      <td>1.771927</td>\n",
       "      <td>1.149019</td>\n",
       "      <td>1.691589</td>\n",
       "      <td>1.739420</td>\n",
       "      <td>1.178965</td>\n",
       "      <td>1.522624</td>\n",
       "      <td>2.444413</td>\n",
       "      <td>1.580680</td>\n",
       "      <td>1.566154</td>\n",
       "      <td>...</td>\n",
       "      <td>1.317147</td>\n",
       "      <td>1.864694</td>\n",
       "      <td>1.727503</td>\n",
       "      <td>1.419561</td>\n",
       "      <td>1.821212</td>\n",
       "      <td>1.492831</td>\n",
       "      <td>1.412283</td>\n",
       "      <td>1.556659</td>\n",
       "      <td>1.318842</td>\n",
       "      <td>1.961271</td>\n",
       "    </tr>\n",
       "    <tr>\n",
       "      <th>2519</th>\n",
       "      <td>1.628885</td>\n",
       "      <td>1.770207</td>\n",
       "      <td>1.149670</td>\n",
       "      <td>1.703935</td>\n",
       "      <td>1.738053</td>\n",
       "      <td>1.182429</td>\n",
       "      <td>1.519485</td>\n",
       "      <td>2.441360</td>\n",
       "      <td>1.565663</td>\n",
       "      <td>1.576607</td>\n",
       "      <td>...</td>\n",
       "      <td>1.307985</td>\n",
       "      <td>1.858986</td>\n",
       "      <td>1.728039</td>\n",
       "      <td>1.430017</td>\n",
       "      <td>1.814690</td>\n",
       "      <td>1.496851</td>\n",
       "      <td>1.409284</td>\n",
       "      <td>1.562660</td>\n",
       "      <td>1.324798</td>\n",
       "      <td>1.964190</td>\n",
       "    </tr>\n",
       "    <tr>\n",
       "      <th>2520</th>\n",
       "      <td>1.631015</td>\n",
       "      <td>1.770072</td>\n",
       "      <td>1.155133</td>\n",
       "      <td>1.716156</td>\n",
       "      <td>1.740688</td>\n",
       "      <td>1.184901</td>\n",
       "      <td>1.523516</td>\n",
       "      <td>2.451787</td>\n",
       "      <td>1.565796</td>\n",
       "      <td>1.574713</td>\n",
       "      <td>...</td>\n",
       "      <td>1.302946</td>\n",
       "      <td>1.855886</td>\n",
       "      <td>1.730849</td>\n",
       "      <td>1.424173</td>\n",
       "      <td>1.818980</td>\n",
       "      <td>1.496972</td>\n",
       "      <td>1.412152</td>\n",
       "      <td>1.565199</td>\n",
       "      <td>1.320461</td>\n",
       "      <td>1.969683</td>\n",
       "    </tr>\n",
       "  </tbody>\n",
       "</table>\n",
       "<p>2521 rows × 500 columns</p>\n",
       "</div>"
      ],
      "text/plain": [
       "           0         1         2         3         4         5         6    \\\n",
       "0     1.000000  1.000000  1.000000  1.000000  1.000000  1.000000  1.000000   \n",
       "1     1.004461  1.003269  0.998934  0.996767  1.000906  0.999279  0.995262   \n",
       "2     1.007901  1.003304  0.993812  0.999973  1.000910  1.002347  0.996311   \n",
       "3     1.007532  1.001077  0.990963  0.998339  1.001779  1.003653  0.994439   \n",
       "4     1.020339  1.005743  0.991869  0.998218  1.005630  1.008717  0.987764   \n",
       "...        ...       ...       ...       ...       ...       ...       ...   \n",
       "2516  1.616922  1.761703  1.143430  1.687801  1.743826  1.174891  1.514199   \n",
       "2517  1.620285  1.769184  1.145132  1.695693  1.742878  1.175745  1.517697   \n",
       "2518  1.622141  1.771927  1.149019  1.691589  1.739420  1.178965  1.522624   \n",
       "2519  1.628885  1.770207  1.149670  1.703935  1.738053  1.182429  1.519485   \n",
       "2520  1.631015  1.770072  1.155133  1.716156  1.740688  1.184901  1.523516   \n",
       "\n",
       "           7         8         9    ...       490       491       492  \\\n",
       "0     1.000000  1.000000  1.000000  ...  1.000000  1.000000  1.000000   \n",
       "1     1.005752  0.993466  0.993655  ...  1.001427  1.004350  0.996932   \n",
       "2     1.007234  0.993550  0.991021  ...  0.997379  1.001952  0.998124   \n",
       "3     1.012230  0.999170  0.996484  ...  0.995265  1.001745  0.995332   \n",
       "4     1.012750  0.999227  0.996474  ...  0.999028  1.004730  0.995357   \n",
       "...        ...       ...       ...  ...       ...       ...       ...   \n",
       "2516  2.447129  1.589765  1.570578  ...  1.316494  1.863650  1.727959   \n",
       "2517  2.441471  1.586174  1.560826  ...  1.318463  1.857860  1.724003   \n",
       "2518  2.444413  1.580680  1.566154  ...  1.317147  1.864694  1.727503   \n",
       "2519  2.441360  1.565663  1.576607  ...  1.307985  1.858986  1.728039   \n",
       "2520  2.451787  1.565796  1.574713  ...  1.302946  1.855886  1.730849   \n",
       "\n",
       "           493       494       495       496       497       498       499  \n",
       "0     1.000000  1.000000  1.000000  1.000000  1.000000  1.000000  1.000000  \n",
       "1     0.996844  0.997507  1.003457  0.998736  1.001195  0.999904  1.010218  \n",
       "2     0.998063  1.001733  1.000273  0.994865  1.000109  0.994648  1.007838  \n",
       "3     1.003023  1.003800  0.999755  0.997616  1.004730  0.993391  1.010444  \n",
       "4     1.000204  1.008738  0.999273  0.999426  1.003776  0.991478  1.013379  \n",
       "...        ...       ...       ...       ...       ...       ...       ...  \n",
       "2516  1.411033  1.804671  1.500605  1.413278  1.552375  1.318340  1.960015  \n",
       "2517  1.409092  1.810136  1.499466  1.413210  1.552539  1.316872  1.956776  \n",
       "2518  1.419561  1.821212  1.492831  1.412283  1.556659  1.318842  1.961271  \n",
       "2519  1.430017  1.814690  1.496851  1.409284  1.562660  1.324798  1.964190  \n",
       "2520  1.424173  1.818980  1.496972  1.412152  1.565199  1.320461  1.969683  \n",
       "\n",
       "[2521 rows x 500 columns]"
      ]
     },
     "execution_count": 31,
     "metadata": {},
     "output_type": "execute_result"
    }
   ],
   "source": [
    "# Running a Monte Carlo simulation to forecast 10 years cumulative returns\n",
    "# YOUR CODE HERE!"
   ]
  },
  {
   "cell_type": "code",
   "execution_count": 132,
   "metadata": {
    "tags": []
   },
   "outputs": [
    {
     "ename": "AttributeError",
     "evalue": "'MCSimulation' object has no attribute 'plot_line'",
     "output_type": "error",
     "traceback": [
      "\u001b[0;31m---------------------------------------------------------------------------\u001b[0m",
      "\u001b[0;31mAttributeError\u001b[0m                            Traceback (most recent call last)",
      "Cell \u001b[0;32mIn[132], line 3\u001b[0m\n\u001b[1;32m      1\u001b[0m \u001b[38;5;66;03m# Plot simulation outcomes\u001b[39;00m\n\u001b[1;32m      2\u001b[0m \u001b[38;5;66;03m# YOUR CODE HERE!\u001b[39;00m\n\u001b[0;32m----> 3\u001b[0m five_years \u001b[38;5;241m=\u001b[39m \u001b[43mMC5year\u001b[49m\u001b[38;5;241;43m.\u001b[39;49m\u001b[43mplot_line\u001b[49m()\n",
      "\u001b[0;31mAttributeError\u001b[0m: 'MCSimulation' object has no attribute 'plot_line'"
     ]
    }
   ],
   "source": [
    "# Plot simulation outcomes\n",
    "# YOUR CODE HERE!\n",
    "#ive_years = MC5year.plot_distribution()"
   ]
  },
  {
   "cell_type": "code",
   "execution_count": 133,
   "metadata": {
    "tags": []
   },
   "outputs": [
    {
     "data": {
      "image/png": "[encoded data removed]",
      "text/plain": [
       "<Figure size 640x480 with 1 Axes>"
      ]
     },
     "metadata": {},
     "output_type": "display_data"
    }
   ],
   "source": [
    "# Plot probability distribution and confidence intervals\n",
    "# YOUR CODE HERE!\n",
    "five_years = MC5year.plot_distribution()"
   ]
  },
  {
   "cell_type": "code",
   "execution_count": 34,
   "metadata": {},
   "outputs": [
    {
     "name": "stdout",
     "output_type": "stream",
     "text": [
      "count           500.000000\n",
      "mean              1.537014\n",
      "std               0.282192\n",
      "min               0.795263\n",
      "25%               1.339641\n",
      "50%               1.523799\n",
      "75%               1.693927\n",
      "max               2.451787\n",
      "95% CI Lower      1.049781\n",
      "95% CI Upper      2.159935\n",
      "Name: 2520, dtype: float64\n"
     ]
    }
   ],
   "source": [
    "# Fetch summary statistics from the Monte Carlo simulation results\n",
    "# YOUR CODE HERE!\n",
    "\n",
    "# Print summary statistics\n",
    "# YOUR CODE HERE!"
   ]
  },
  {
   "cell_type": "code",
   "execution_count": 35,
   "metadata": {},
   "outputs": [
    {
     "name": "stdout",
     "output_type": "stream",
     "text": [
      "There is a 95% chance that an initial investment of $60000 in the portfolio over the next 10 years will end within in the range of $62986.85 and $129596.12\n"
     ]
    }
   ],
   "source": [
    "# Set initial investment\n",
    "# YOUR CODE HERE!\n",
    "\n",
    "# Use the lower and upper `95%` confidence intervals to calculate the range of the possible outcomes of our $60,000\n",
    "# YOUR CODE HERE!\n",
    "\n",
    "# Print results\n",
    "print(f\"There is a 95% chance that an initial investment of ${initial_investment} in the portfolio\"\n",
    "      f\" over the next 10 years will end within in the range of\"\n",
    "      f\" ${ci_lower_ten} and ${ci_upper_ten}\")"
   ]
  },
  {
   "cell_type": "code",
   "execution_count": null,
   "metadata": {},
   "outputs": [],
   "source": []
  }
 ],
 "metadata": {
  "kernelspec": {
   "display_name": "Python 3 (ipykernel)",
   "language": "python",
   "name": "python3"
  },
  "language_info": {
   "codemirror_mode": {
    "name": "ipython",
    "version": 3
   },
   "file_extension": ".py",
   "mimetype": "text/x-python",
   "name": "python",
   "nbconvert_exporter": "python",
   "pygments_lexer": "ipython3",
   "version": "3.10.9"
  },
  "nteract": {
   "version": "0.28.0"
  }
 },
 "nbformat": 4,
 "nbformat_minor": 4
}
